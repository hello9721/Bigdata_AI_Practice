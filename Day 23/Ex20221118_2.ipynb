{
  "nbformat": 4,
  "nbformat_minor": 0,
  "metadata": {
    "colab": {
      "provenance": [],
      "mount_file_id": "1f-z-7NU748AjTR-oq5CrpEs7wukqmOCg",
      "authorship_tag": "ABX9TyOm3jnuCzSPPxd0W71R8geq"
    },
    "kernelspec": {
      "name": "python3",
      "display_name": "Python 3"
    },
    "language_info": {
      "name": "python"
    },
    "accelerator": "GPU",
    "gpuClass": "standard"
  },
  "cells": [
    {
      "cell_type": "code",
      "execution_count": 1,
      "metadata": {
        "id": "c9zBlOayKBkf"
      },
      "outputs": [],
      "source": [
        "# RNN (순환 신경망)\n",
        "\n",
        "# 시간적으로 연속성이 있는 데이터를 처리하려고 고안된 인공신경망\n",
        "# 기억을 갖고 새로운 입력이 들어올 때마다 조금씩 기억을 수정하여 결국 모든 입력 전체를 요약한 것과 같은 기억을 갖게 된다.\n",
        "\n",
        "# 일대일 : 순환이 없기에 RNN 이라고 말하기 어렵다. 순방향 네트워크.\n",
        "# 일대다 : 입력 하나, 출력 다수. 이미지 캡션 ( 이미지를 입력해서 이미지에 대한 설명을 문장으로 출력 )이 대표적.\n",
        "# 다대일 : 입력이 다수, 출력이 하나. 감성 분석기 ( 문장을 입력하여 긍정 혹은 부정을 출력 )이 대표적.\n",
        "# 다대다 : 입출력 모두 다수. 언어를 번역하는 자동 변역기가 대표적."
      ]
    },
    {
      "cell_type": "code",
      "source": [
        "# simple RNN 구현"
      ],
      "metadata": {
        "id": "sTnnz3FXMQtX"
      },
      "execution_count": 2,
      "outputs": []
    },
    {
      "cell_type": "code",
      "source": [
        "import tensorflow as tf\n",
        "import numpy as np\n",
        "import pandas as pd\n",
        "import matplotlib.pyplot as pl\n",
        "\n",
        "from tensorflow.keras.models import Sequential\n",
        "from tensorflow.keras.layers import SimpleRNN, LSTM, GRU, Dropout, Dense\n",
        "from sklearn.preprocessing import MinMaxScaler"
      ],
      "metadata": {
        "id": "00ItbcNXMdXd"
      },
      "execution_count": 1,
      "outputs": []
    },
    {
      "cell_type": "code",
      "source": [
        "df= pd.read_csv(\"/content/drive/MyDrive/DeepLearning/RNN_sample.csv\", header = 0)"
      ],
      "metadata": {
        "id": "jRpZTavRQgJj"
      },
      "execution_count": 3,
      "outputs": []
    },
    {
      "cell_type": "code",
      "source": [
        "df"
      ],
      "metadata": {
        "colab": {
          "base_uri": "https://localhost:8080/",
          "height": 424
        },
        "id": "rO5dhvK7c1xR",
        "outputId": "83e22dd7-6dd5-4c9d-f1fe-84ed0b2c50e8"
      },
      "execution_count": 4,
      "outputs": [
        {
          "output_type": "execute_result",
          "data": {
            "text/plain": [
              "              regdate  temp1  temp2  temp3  temp4  temp5  temp6\n",
              "0     2019-04-10 8:00   19.5  -81.4   -9.7   32.4   50.4   34.4\n",
              "1     2019-04-10 8:01   20.8  -81.0   -5.1   32.3   51.6   34.2\n",
              "2     2019-04-10 8:02   21.5  -80.6   -1.6   32.2   52.6   33.9\n",
              "3     2019-04-10 8:08   33.0  -78.9  -20.8   33.7   51.5   36.9\n",
              "4     2019-04-10 8:09   33.8  -78.6  -25.1   33.6   48.9   35.2\n",
              "..                ...    ...    ...    ...    ...    ...    ...\n",
              "152  2019-04-10 10:55   36.9  -82.2  -24.8   35.8   42.7   37.3\n",
              "153  2019-04-10 10:56   23.8  -82.4  -20.5   34.7   45.0   37.2\n",
              "154  2019-04-10 10:57   13.5  -82.3  -16.6   34.0   46.8   36.4\n",
              "155  2019-04-10 10:58   17.1  -82.1  -16.9   33.5   48.5   35.8\n",
              "156  2019-04-10 10:59   18.9  -81.8  -14.5   33.3   49.9   35.4\n",
              "\n",
              "[157 rows x 7 columns]"
            ],
            "text/html": [
              "\n",
              "  <div id=\"df-09825264-d5a5-4a13-b4af-da37693c7824\">\n",
              "    <div class=\"colab-df-container\">\n",
              "      <div>\n",
              "<style scoped>\n",
              "    .dataframe tbody tr th:only-of-type {\n",
              "        vertical-align: middle;\n",
              "    }\n",
              "\n",
              "    .dataframe tbody tr th {\n",
              "        vertical-align: top;\n",
              "    }\n",
              "\n",
              "    .dataframe thead th {\n",
              "        text-align: right;\n",
              "    }\n",
              "</style>\n",
              "<table border=\"1\" class=\"dataframe\">\n",
              "  <thead>\n",
              "    <tr style=\"text-align: right;\">\n",
              "      <th></th>\n",
              "      <th>regdate</th>\n",
              "      <th>temp1</th>\n",
              "      <th>temp2</th>\n",
              "      <th>temp3</th>\n",
              "      <th>temp4</th>\n",
              "      <th>temp5</th>\n",
              "      <th>temp6</th>\n",
              "    </tr>\n",
              "  </thead>\n",
              "  <tbody>\n",
              "    <tr>\n",
              "      <th>0</th>\n",
              "      <td>2019-04-10 8:00</td>\n",
              "      <td>19.5</td>\n",
              "      <td>-81.4</td>\n",
              "      <td>-9.7</td>\n",
              "      <td>32.4</td>\n",
              "      <td>50.4</td>\n",
              "      <td>34.4</td>\n",
              "    </tr>\n",
              "    <tr>\n",
              "      <th>1</th>\n",
              "      <td>2019-04-10 8:01</td>\n",
              "      <td>20.8</td>\n",
              "      <td>-81.0</td>\n",
              "      <td>-5.1</td>\n",
              "      <td>32.3</td>\n",
              "      <td>51.6</td>\n",
              "      <td>34.2</td>\n",
              "    </tr>\n",
              "    <tr>\n",
              "      <th>2</th>\n",
              "      <td>2019-04-10 8:02</td>\n",
              "      <td>21.5</td>\n",
              "      <td>-80.6</td>\n",
              "      <td>-1.6</td>\n",
              "      <td>32.2</td>\n",
              "      <td>52.6</td>\n",
              "      <td>33.9</td>\n",
              "    </tr>\n",
              "    <tr>\n",
              "      <th>3</th>\n",
              "      <td>2019-04-10 8:08</td>\n",
              "      <td>33.0</td>\n",
              "      <td>-78.9</td>\n",
              "      <td>-20.8</td>\n",
              "      <td>33.7</td>\n",
              "      <td>51.5</td>\n",
              "      <td>36.9</td>\n",
              "    </tr>\n",
              "    <tr>\n",
              "      <th>4</th>\n",
              "      <td>2019-04-10 8:09</td>\n",
              "      <td>33.8</td>\n",
              "      <td>-78.6</td>\n",
              "      <td>-25.1</td>\n",
              "      <td>33.6</td>\n",
              "      <td>48.9</td>\n",
              "      <td>35.2</td>\n",
              "    </tr>\n",
              "    <tr>\n",
              "      <th>...</th>\n",
              "      <td>...</td>\n",
              "      <td>...</td>\n",
              "      <td>...</td>\n",
              "      <td>...</td>\n",
              "      <td>...</td>\n",
              "      <td>...</td>\n",
              "      <td>...</td>\n",
              "    </tr>\n",
              "    <tr>\n",
              "      <th>152</th>\n",
              "      <td>2019-04-10 10:55</td>\n",
              "      <td>36.9</td>\n",
              "      <td>-82.2</td>\n",
              "      <td>-24.8</td>\n",
              "      <td>35.8</td>\n",
              "      <td>42.7</td>\n",
              "      <td>37.3</td>\n",
              "    </tr>\n",
              "    <tr>\n",
              "      <th>153</th>\n",
              "      <td>2019-04-10 10:56</td>\n",
              "      <td>23.8</td>\n",
              "      <td>-82.4</td>\n",
              "      <td>-20.5</td>\n",
              "      <td>34.7</td>\n",
              "      <td>45.0</td>\n",
              "      <td>37.2</td>\n",
              "    </tr>\n",
              "    <tr>\n",
              "      <th>154</th>\n",
              "      <td>2019-04-10 10:57</td>\n",
              "      <td>13.5</td>\n",
              "      <td>-82.3</td>\n",
              "      <td>-16.6</td>\n",
              "      <td>34.0</td>\n",
              "      <td>46.8</td>\n",
              "      <td>36.4</td>\n",
              "    </tr>\n",
              "    <tr>\n",
              "      <th>155</th>\n",
              "      <td>2019-04-10 10:58</td>\n",
              "      <td>17.1</td>\n",
              "      <td>-82.1</td>\n",
              "      <td>-16.9</td>\n",
              "      <td>33.5</td>\n",
              "      <td>48.5</td>\n",
              "      <td>35.8</td>\n",
              "    </tr>\n",
              "    <tr>\n",
              "      <th>156</th>\n",
              "      <td>2019-04-10 10:59</td>\n",
              "      <td>18.9</td>\n",
              "      <td>-81.8</td>\n",
              "      <td>-14.5</td>\n",
              "      <td>33.3</td>\n",
              "      <td>49.9</td>\n",
              "      <td>35.4</td>\n",
              "    </tr>\n",
              "  </tbody>\n",
              "</table>\n",
              "<p>157 rows × 7 columns</p>\n",
              "</div>\n",
              "      <button class=\"colab-df-convert\" onclick=\"convertToInteractive('df-09825264-d5a5-4a13-b4af-da37693c7824')\"\n",
              "              title=\"Convert this dataframe to an interactive table.\"\n",
              "              style=\"display:none;\">\n",
              "        \n",
              "  <svg xmlns=\"http://www.w3.org/2000/svg\" height=\"24px\"viewBox=\"0 0 24 24\"\n",
              "       width=\"24px\">\n",
              "    <path d=\"M0 0h24v24H0V0z\" fill=\"none\"/>\n",
              "    <path d=\"M18.56 5.44l.94 2.06.94-2.06 2.06-.94-2.06-.94-.94-2.06-.94 2.06-2.06.94zm-11 1L8.5 8.5l.94-2.06 2.06-.94-2.06-.94L8.5 2.5l-.94 2.06-2.06.94zm10 10l.94 2.06.94-2.06 2.06-.94-2.06-.94-.94-2.06-.94 2.06-2.06.94z\"/><path d=\"M17.41 7.96l-1.37-1.37c-.4-.4-.92-.59-1.43-.59-.52 0-1.04.2-1.43.59L10.3 9.45l-7.72 7.72c-.78.78-.78 2.05 0 2.83L4 21.41c.39.39.9.59 1.41.59.51 0 1.02-.2 1.41-.59l7.78-7.78 2.81-2.81c.8-.78.8-2.07 0-2.86zM5.41 20L4 18.59l7.72-7.72 1.47 1.35L5.41 20z\"/>\n",
              "  </svg>\n",
              "      </button>\n",
              "      \n",
              "  <style>\n",
              "    .colab-df-container {\n",
              "      display:flex;\n",
              "      flex-wrap:wrap;\n",
              "      gap: 12px;\n",
              "    }\n",
              "\n",
              "    .colab-df-convert {\n",
              "      background-color: #E8F0FE;\n",
              "      border: none;\n",
              "      border-radius: 50%;\n",
              "      cursor: pointer;\n",
              "      display: none;\n",
              "      fill: #1967D2;\n",
              "      height: 32px;\n",
              "      padding: 0 0 0 0;\n",
              "      width: 32px;\n",
              "    }\n",
              "\n",
              "    .colab-df-convert:hover {\n",
              "      background-color: #E2EBFA;\n",
              "      box-shadow: 0px 1px 2px rgba(60, 64, 67, 0.3), 0px 1px 3px 1px rgba(60, 64, 67, 0.15);\n",
              "      fill: #174EA6;\n",
              "    }\n",
              "\n",
              "    [theme=dark] .colab-df-convert {\n",
              "      background-color: #3B4455;\n",
              "      fill: #D2E3FC;\n",
              "    }\n",
              "\n",
              "    [theme=dark] .colab-df-convert:hover {\n",
              "      background-color: #434B5C;\n",
              "      box-shadow: 0px 1px 3px 1px rgba(0, 0, 0, 0.15);\n",
              "      filter: drop-shadow(0px 1px 2px rgba(0, 0, 0, 0.3));\n",
              "      fill: #FFFFFF;\n",
              "    }\n",
              "  </style>\n",
              "\n",
              "      <script>\n",
              "        const buttonEl =\n",
              "          document.querySelector('#df-09825264-d5a5-4a13-b4af-da37693c7824 button.colab-df-convert');\n",
              "        buttonEl.style.display =\n",
              "          google.colab.kernel.accessAllowed ? 'block' : 'none';\n",
              "\n",
              "        async function convertToInteractive(key) {\n",
              "          const element = document.querySelector('#df-09825264-d5a5-4a13-b4af-da37693c7824');\n",
              "          const dataTable =\n",
              "            await google.colab.kernel.invokeFunction('convertToInteractive',\n",
              "                                                     [key], {});\n",
              "          if (!dataTable) return;\n",
              "\n",
              "          const docLinkHtml = 'Like what you see? Visit the ' +\n",
              "            '<a target=\"_blank\" href=https://colab.research.google.com/notebooks/data_table.ipynb>data table notebook</a>'\n",
              "            + ' to learn more about interactive tables.';\n",
              "          element.innerHTML = '';\n",
              "          dataTable['output_type'] = 'display_data';\n",
              "          await google.colab.output.renderOutput(dataTable, element);\n",
              "          const docLink = document.createElement('div');\n",
              "          docLink.innerHTML = docLinkHtml;\n",
              "          element.appendChild(docLink);\n",
              "        }\n",
              "      </script>\n",
              "    </div>\n",
              "  </div>\n",
              "  "
            ]
          },
          "metadata": {},
          "execution_count": 4
        }
      ]
    },
    {
      "cell_type": "code",
      "source": [
        "pl.figure(figsize = (6, 6))\n",
        "\n",
        "pl.plot(df['temp1'], label = 'temp1')\n",
        "pl.plot(df['temp2'], label = 'temp2')\n",
        "pl.plot(df['temp3'], label = 'temp3')\n",
        "pl.plot(df['temp4'], label = 'temp4')\n",
        "pl.plot(df['temp5'], label = 'temp5')\n",
        "pl.plot(df['temp6'], label = 'temp6')\n",
        "\n",
        "pl.grid()\n",
        "pl.legend(loc = \"upper center\", ncol = 3)\n",
        "pl.ylim(-100, 80)\n",
        "pl.show()"
      ],
      "metadata": {
        "colab": {
          "base_uri": "https://localhost:8080/",
          "height": 378
        },
        "id": "pFaDmnmPc6MH",
        "outputId": "2bd8e2b1-f802-4cb2-c54c-987a0396cef1"
      },
      "execution_count": 11,
      "outputs": [
        {
          "output_type": "display_data",
          "data": {
            "text/plain": [
              "<Figure size 432x432 with 1 Axes>"
            ],
            "image/png": "[encoded data removed]"
          },
          "metadata": {
            "needs_background": "light"
          }
        }
      ]
    },
    {
      "cell_type": "code",
      "source": [
        "df['regdate'] = pd.to_datetime(df.regdate, format = \"%Y-%m-%d %H:%M\")           # 문자열을 날짜 형식으로 변환"
      ],
      "metadata": {
        "id": "ThR-XWUxdrKJ"
      },
      "execution_count": 12,
      "outputs": []
    },
    {
      "cell_type": "code",
      "source": [
        "df.index = df['regdate']                                                        # 날짜를 인덱스로 사용\n",
        "data = df.sort_index(ascending = True, axis = 0)                                # axis = 0 이면 열단위, 1이면 행단위 정렬"
      ],
      "metadata": {
        "id": "Ly8rEpoBgELL"
      },
      "execution_count": 15,
      "outputs": []
    },
    {
      "cell_type": "code",
      "source": [
        "data.head()"
      ],
      "metadata": {
        "colab": {
          "base_uri": "https://localhost:8080/",
          "height": 238
        },
        "id": "P9ncofc_gZjI",
        "outputId": "940e61be-1288-46dd-ce63-477c8128b514"
      },
      "execution_count": 16,
      "outputs": [
        {
          "output_type": "execute_result",
          "data": {
            "text/plain": [
              "                                regdate  temp1  temp2  temp3  temp4  temp5  \\\n",
              "regdate                                                                      \n",
              "2019-04-10 08:00:00 2019-04-10 08:00:00   19.5  -81.4   -9.7   32.4   50.4   \n",
              "2019-04-10 08:01:00 2019-04-10 08:01:00   20.8  -81.0   -5.1   32.3   51.6   \n",
              "2019-04-10 08:02:00 2019-04-10 08:02:00   21.5  -80.6   -1.6   32.2   52.6   \n",
              "2019-04-10 08:08:00 2019-04-10 08:08:00   33.0  -78.9  -20.8   33.7   51.5   \n",
              "2019-04-10 08:09:00 2019-04-10 08:09:00   33.8  -78.6  -25.1   33.6   48.9   \n",
              "\n",
              "                     temp6  \n",
              "regdate                     \n",
              "2019-04-10 08:00:00   34.4  \n",
              "2019-04-10 08:01:00   34.2  \n",
              "2019-04-10 08:02:00   33.9  \n",
              "2019-04-10 08:08:00   36.9  \n",
              "2019-04-10 08:09:00   35.2  "
            ],
            "text/html": [
              "\n",
              "  <div id=\"df-6f5e3f13-6fe1-49a6-b183-73bdc5219c6b\">\n",
              "    <div class=\"colab-df-container\">\n",
              "      <div>\n",
              "<style scoped>\n",
              "    .dataframe tbody tr th:only-of-type {\n",
              "        vertical-align: middle;\n",
              "    }\n",
              "\n",
              "    .dataframe tbody tr th {\n",
              "        vertical-align: top;\n",
              "    }\n",
              "\n",
              "    .dataframe thead th {\n",
              "        text-align: right;\n",
              "    }\n",
              "</style>\n",
              "<table border=\"1\" class=\"dataframe\">\n",
              "  <thead>\n",
              "    <tr style=\"text-align: right;\">\n",
              "      <th></th>\n",
              "      <th>regdate</th>\n",
              "      <th>temp1</th>\n",
              "      <th>temp2</th>\n",
              "      <th>temp3</th>\n",
              "      <th>temp4</th>\n",
              "      <th>temp5</th>\n",
              "      <th>temp6</th>\n",
              "    </tr>\n",
              "    <tr>\n",
              "      <th>regdate</th>\n",
              "      <th></th>\n",
              "      <th></th>\n",
              "      <th></th>\n",
              "      <th></th>\n",
              "      <th></th>\n",
              "      <th></th>\n",
              "      <th></th>\n",
              "    </tr>\n",
              "  </thead>\n",
              "  <tbody>\n",
              "    <tr>\n",
              "      <th>2019-04-10 08:00:00</th>\n",
              "      <td>2019-04-10 08:00:00</td>\n",
              "      <td>19.5</td>\n",
              "      <td>-81.4</td>\n",
              "      <td>-9.7</td>\n",
              "      <td>32.4</td>\n",
              "      <td>50.4</td>\n",
              "      <td>34.4</td>\n",
              "    </tr>\n",
              "    <tr>\n",
              "      <th>2019-04-10 08:01:00</th>\n",
              "      <td>2019-04-10 08:01:00</td>\n",
              "      <td>20.8</td>\n",
              "      <td>-81.0</td>\n",
              "      <td>-5.1</td>\n",
              "      <td>32.3</td>\n",
              "      <td>51.6</td>\n",
              "      <td>34.2</td>\n",
              "    </tr>\n",
              "    <tr>\n",
              "      <th>2019-04-10 08:02:00</th>\n",
              "      <td>2019-04-10 08:02:00</td>\n",
              "      <td>21.5</td>\n",
              "      <td>-80.6</td>\n",
              "      <td>-1.6</td>\n",
              "      <td>32.2</td>\n",
              "      <td>52.6</td>\n",
              "      <td>33.9</td>\n",
              "    </tr>\n",
              "    <tr>\n",
              "      <th>2019-04-10 08:08:00</th>\n",
              "      <td>2019-04-10 08:08:00</td>\n",
              "      <td>33.0</td>\n",
              "      <td>-78.9</td>\n",
              "      <td>-20.8</td>\n",
              "      <td>33.7</td>\n",
              "      <td>51.5</td>\n",
              "      <td>36.9</td>\n",
              "    </tr>\n",
              "    <tr>\n",
              "      <th>2019-04-10 08:09:00</th>\n",
              "      <td>2019-04-10 08:09:00</td>\n",
              "      <td>33.8</td>\n",
              "      <td>-78.6</td>\n",
              "      <td>-25.1</td>\n",
              "      <td>33.6</td>\n",
              "      <td>48.9</td>\n",
              "      <td>35.2</td>\n",
              "    </tr>\n",
              "  </tbody>\n",
              "</table>\n",
              "</div>\n",
              "      <button class=\"colab-df-convert\" onclick=\"convertToInteractive('df-6f5e3f13-6fe1-49a6-b183-73bdc5219c6b')\"\n",
              "              title=\"Convert this dataframe to an interactive table.\"\n",
              "              style=\"display:none;\">\n",
              "        \n",
              "  <svg xmlns=\"http://www.w3.org/2000/svg\" height=\"24px\"viewBox=\"0 0 24 24\"\n",
              "       width=\"24px\">\n",
              "    <path d=\"M0 0h24v24H0V0z\" fill=\"none\"/>\n",
              "    <path d=\"M18.56 5.44l.94 2.06.94-2.06 2.06-.94-2.06-.94-.94-2.06-.94 2.06-2.06.94zm-11 1L8.5 8.5l.94-2.06 2.06-.94-2.06-.94L8.5 2.5l-.94 2.06-2.06.94zm10 10l.94 2.06.94-2.06 2.06-.94-2.06-.94-.94-2.06-.94 2.06-2.06.94z\"/><path d=\"M17.41 7.96l-1.37-1.37c-.4-.4-.92-.59-1.43-.59-.52 0-1.04.2-1.43.59L10.3 9.45l-7.72 7.72c-.78.78-.78 2.05 0 2.83L4 21.41c.39.39.9.59 1.41.59.51 0 1.02-.2 1.41-.59l7.78-7.78 2.81-2.81c.8-.78.8-2.07 0-2.86zM5.41 20L4 18.59l7.72-7.72 1.47 1.35L5.41 20z\"/>\n",
              "  </svg>\n",
              "      </button>\n",
              "      \n",
              "  <style>\n",
              "    .colab-df-container {\n",
              "      display:flex;\n",
              "      flex-wrap:wrap;\n",
              "      gap: 12px;\n",
              "    }\n",
              "\n",
              "    .colab-df-convert {\n",
              "      background-color: #E8F0FE;\n",
              "      border: none;\n",
              "      border-radius: 50%;\n",
              "      cursor: pointer;\n",
              "      display: none;\n",
              "      fill: #1967D2;\n",
              "      height: 32px;\n",
              "      padding: 0 0 0 0;\n",
              "      width: 32px;\n",
              "    }\n",
              "\n",
              "    .colab-df-convert:hover {\n",
              "      background-color: #E2EBFA;\n",
              "      box-shadow: 0px 1px 2px rgba(60, 64, 67, 0.3), 0px 1px 3px 1px rgba(60, 64, 67, 0.15);\n",
              "      fill: #174EA6;\n",
              "    }\n",
              "\n",
              "    [theme=dark] .colab-df-convert {\n",
              "      background-color: #3B4455;\n",
              "      fill: #D2E3FC;\n",
              "    }\n",
              "\n",
              "    [theme=dark] .colab-df-convert:hover {\n",
              "      background-color: #434B5C;\n",
              "      box-shadow: 0px 1px 3px 1px rgba(0, 0, 0, 0.15);\n",
              "      filter: drop-shadow(0px 1px 2px rgba(0, 0, 0, 0.3));\n",
              "      fill: #FFFFFF;\n",
              "    }\n",
              "  </style>\n",
              "\n",
              "      <script>\n",
              "        const buttonEl =\n",
              "          document.querySelector('#df-6f5e3f13-6fe1-49a6-b183-73bdc5219c6b button.colab-df-convert');\n",
              "        buttonEl.style.display =\n",
              "          google.colab.kernel.accessAllowed ? 'block' : 'none';\n",
              "\n",
              "        async function convertToInteractive(key) {\n",
              "          const element = document.querySelector('#df-6f5e3f13-6fe1-49a6-b183-73bdc5219c6b');\n",
              "          const dataTable =\n",
              "            await google.colab.kernel.invokeFunction('convertToInteractive',\n",
              "                                                     [key], {});\n",
              "          if (!dataTable) return;\n",
              "\n",
              "          const docLinkHtml = 'Like what you see? Visit the ' +\n",
              "            '<a target=\"_blank\" href=https://colab.research.google.com/notebooks/data_table.ipynb>data table notebook</a>'\n",
              "            + ' to learn more about interactive tables.';\n",
              "          element.innerHTML = '';\n",
              "          dataTable['output_type'] = 'display_data';\n",
              "          await google.colab.output.renderOutput(dataTable, element);\n",
              "          const docLink = document.createElement('div');\n",
              "          docLink.innerHTML = docLinkHtml;\n",
              "          element.appendChild(docLink);\n",
              "        }\n",
              "      </script>\n",
              "    </div>\n",
              "  </div>\n",
              "  "
            ]
          },
          "metadata": {},
          "execution_count": 16
        }
      ]
    },
    {
      "cell_type": "code",
      "source": [
        "nd = pd.DataFrame(index = range(0, len(df)), columns = ['regdate', 'temp1'])    # temp1 만 새로운 데이터 프레임으로 추출\n",
        "\n",
        "for i in range(len(data)):\n",
        "\n",
        "  nd['regdate'][i] = data['regdate'][i]\n",
        "  nd['temp1'][i] = data['temp1'][i]  \n",
        "\n",
        "nd.index = nd.regdate\n",
        "nd.drop('regdate', axis = 1, inplace = True)"
      ],
      "metadata": {
        "id": "2WVDr6vVgdyA"
      },
      "execution_count": 24,
      "outputs": []
    },
    {
      "cell_type": "code",
      "source": [
        "nd.head()"
      ],
      "metadata": {
        "colab": {
          "base_uri": "https://localhost:8080/",
          "height": 238
        },
        "id": "9vBmAibshgL5",
        "outputId": "498cada5-2157-41e7-83e1-88753e1ce58e"
      },
      "execution_count": 25,
      "outputs": [
        {
          "output_type": "execute_result",
          "data": {
            "text/plain": [
              "                    temp1\n",
              "regdate                  \n",
              "2019-04-10 08:00:00  19.5\n",
              "2019-04-10 08:01:00  20.8\n",
              "2019-04-10 08:02:00  21.5\n",
              "2019-04-10 08:08:00  33.0\n",
              "2019-04-10 08:09:00  33.8"
            ],
            "text/html": [
              "\n",
              "  <div id=\"df-dcd130ab-411c-457c-a9f9-d9d5365d6a0e\">\n",
              "    <div class=\"colab-df-container\">\n",
              "      <div>\n",
              "<style scoped>\n",
              "    .dataframe tbody tr th:only-of-type {\n",
              "        vertical-align: middle;\n",
              "    }\n",
              "\n",
              "    .dataframe tbody tr th {\n",
              "        vertical-align: top;\n",
              "    }\n",
              "\n",
              "    .dataframe thead th {\n",
              "        text-align: right;\n",
              "    }\n",
              "</style>\n",
              "<table border=\"1\" class=\"dataframe\">\n",
              "  <thead>\n",
              "    <tr style=\"text-align: right;\">\n",
              "      <th></th>\n",
              "      <th>temp1</th>\n",
              "    </tr>\n",
              "    <tr>\n",
              "      <th>regdate</th>\n",
              "      <th></th>\n",
              "    </tr>\n",
              "  </thead>\n",
              "  <tbody>\n",
              "    <tr>\n",
              "      <th>2019-04-10 08:00:00</th>\n",
              "      <td>19.5</td>\n",
              "    </tr>\n",
              "    <tr>\n",
              "      <th>2019-04-10 08:01:00</th>\n",
              "      <td>20.8</td>\n",
              "    </tr>\n",
              "    <tr>\n",
              "      <th>2019-04-10 08:02:00</th>\n",
              "      <td>21.5</td>\n",
              "    </tr>\n",
              "    <tr>\n",
              "      <th>2019-04-10 08:08:00</th>\n",
              "      <td>33.0</td>\n",
              "    </tr>\n",
              "    <tr>\n",
              "      <th>2019-04-10 08:09:00</th>\n",
              "      <td>33.8</td>\n",
              "    </tr>\n",
              "  </tbody>\n",
              "</table>\n",
              "</div>\n",
              "      <button class=\"colab-df-convert\" onclick=\"convertToInteractive('df-dcd130ab-411c-457c-a9f9-d9d5365d6a0e')\"\n",
              "              title=\"Convert this dataframe to an interactive table.\"\n",
              "              style=\"display:none;\">\n",
              "        \n",
              "  <svg xmlns=\"http://www.w3.org/2000/svg\" height=\"24px\"viewBox=\"0 0 24 24\"\n",
              "       width=\"24px\">\n",
              "    <path d=\"M0 0h24v24H0V0z\" fill=\"none\"/>\n",
              "    <path d=\"M18.56 5.44l.94 2.06.94-2.06 2.06-.94-2.06-.94-.94-2.06-.94 2.06-2.06.94zm-11 1L8.5 8.5l.94-2.06 2.06-.94-2.06-.94L8.5 2.5l-.94 2.06-2.06.94zm10 10l.94 2.06.94-2.06 2.06-.94-2.06-.94-.94-2.06-.94 2.06-2.06.94z\"/><path d=\"M17.41 7.96l-1.37-1.37c-.4-.4-.92-.59-1.43-.59-.52 0-1.04.2-1.43.59L10.3 9.45l-7.72 7.72c-.78.78-.78 2.05 0 2.83L4 21.41c.39.39.9.59 1.41.59.51 0 1.02-.2 1.41-.59l7.78-7.78 2.81-2.81c.8-.78.8-2.07 0-2.86zM5.41 20L4 18.59l7.72-7.72 1.47 1.35L5.41 20z\"/>\n",
              "  </svg>\n",
              "      </button>\n",
              "      \n",
              "  <style>\n",
              "    .colab-df-container {\n",
              "      display:flex;\n",
              "      flex-wrap:wrap;\n",
              "      gap: 12px;\n",
              "    }\n",
              "\n",
              "    .colab-df-convert {\n",
              "      background-color: #E8F0FE;\n",
              "      border: none;\n",
              "      border-radius: 50%;\n",
              "      cursor: pointer;\n",
              "      display: none;\n",
              "      fill: #1967D2;\n",
              "      height: 32px;\n",
              "      padding: 0 0 0 0;\n",
              "      width: 32px;\n",
              "    }\n",
              "\n",
              "    .colab-df-convert:hover {\n",
              "      background-color: #E2EBFA;\n",
              "      box-shadow: 0px 1px 2px rgba(60, 64, 67, 0.3), 0px 1px 3px 1px rgba(60, 64, 67, 0.15);\n",
              "      fill: #174EA6;\n",
              "    }\n",
              "\n",
              "    [theme=dark] .colab-df-convert {\n",
              "      background-color: #3B4455;\n",
              "      fill: #D2E3FC;\n",
              "    }\n",
              "\n",
              "    [theme=dark] .colab-df-convert:hover {\n",
              "      background-color: #434B5C;\n",
              "      box-shadow: 0px 1px 3px 1px rgba(0, 0, 0, 0.15);\n",
              "      filter: drop-shadow(0px 1px 2px rgba(0, 0, 0, 0.3));\n",
              "      fill: #FFFFFF;\n",
              "    }\n",
              "  </style>\n",
              "\n",
              "      <script>\n",
              "        const buttonEl =\n",
              "          document.querySelector('#df-dcd130ab-411c-457c-a9f9-d9d5365d6a0e button.colab-df-convert');\n",
              "        buttonEl.style.display =\n",
              "          google.colab.kernel.accessAllowed ? 'block' : 'none';\n",
              "\n",
              "        async function convertToInteractive(key) {\n",
              "          const element = document.querySelector('#df-dcd130ab-411c-457c-a9f9-d9d5365d6a0e');\n",
              "          const dataTable =\n",
              "            await google.colab.kernel.invokeFunction('convertToInteractive',\n",
              "                                                     [key], {});\n",
              "          if (!dataTable) return;\n",
              "\n",
              "          const docLinkHtml = 'Like what you see? Visit the ' +\n",
              "            '<a target=\"_blank\" href=https://colab.research.google.com/notebooks/data_table.ipynb>data table notebook</a>'\n",
              "            + ' to learn more about interactive tables.';\n",
              "          element.innerHTML = '';\n",
              "          dataTable['output_type'] = 'display_data';\n",
              "          await google.colab.output.renderOutput(dataTable, element);\n",
              "          const docLink = document.createElement('div');\n",
              "          docLink.innerHTML = docLinkHtml;\n",
              "          element.appendChild(docLink);\n",
              "        }\n",
              "      </script>\n",
              "    </div>\n",
              "  </div>\n",
              "  "
            ]
          },
          "metadata": {},
          "execution_count": 25
        }
      ]
    },
    {
      "cell_type": "code",
      "source": [
        "fd = nd.values                                                                  # array로 변환\n",
        "fd[ :5]"
      ],
      "metadata": {
        "colab": {
          "base_uri": "https://localhost:8080/"
        },
        "id": "WbboeYMNii9w",
        "outputId": "a0935ffc-dc58-4307-8641-a2457311d723"
      },
      "execution_count": 28,
      "outputs": [
        {
          "output_type": "execute_result",
          "data": {
            "text/plain": [
              "array([[19.5],\n",
              "       [20.8],\n",
              "       [21.5],\n",
              "       [33.0],\n",
              "       [33.8]], dtype=object)"
            ]
          },
          "metadata": {},
          "execution_count": 28
        }
      ]
    },
    {
      "cell_type": "code",
      "source": [
        "# 스캐일러 객체 생성 및 정규화 실행\n",
        "\n",
        "scaler = MinMaxScaler(feature_range = (0,1))\n",
        "sd = scaler.fit_transform(fd)\n",
        "\n",
        "tr = sd[ :120]                                                                  # 학습데이터, 검정데이터 분리\n",
        "te = sd[120: ]\n",
        "\n",
        "print(tr[ :5], te[ :5])"
      ],
      "metadata": {
        "colab": {
          "base_uri": "https://localhost:8080/"
        },
        "id": "MJSpB26hjU9I",
        "outputId": "66b7458f-5e0f-487d-f98d-71fb7652718a"
      },
      "execution_count": 50,
      "outputs": [
        {
          "output_type": "stream",
          "name": "stdout",
          "text": [
            "[[0.26765799]\n",
            " [0.31598513]\n",
            " [0.34200743]\n",
            " [0.76951673]\n",
            " [0.79925651]] [[0.94795539]\n",
            " [0.93680297]\n",
            " [0.93680297]\n",
            " [0.93680297]\n",
            " [0.91821561]]\n"
          ]
        }
      ]
    },
    {
      "cell_type": "code",
      "source": [
        "xtr, ytr = [], []                                                               # 배열 초기화\n",
        "xte, yte = [], []\n",
        "\n",
        "for i in range(10, len(tr)):\n",
        "\n",
        "  xtr.append(sd[i-10:i])\n",
        "  ytr.append(sd[i, 0])\n",
        "\n",
        "for i in range(10, len(te)):\n",
        "\n",
        "  xte.append(sd[i-10:i])\n",
        "  yte.append(sd[i, 0])\n",
        "\n",
        "print(xtr[1], ytr[1], xte[1], yte[1])"
      ],
      "metadata": {
        "colab": {
          "base_uri": "https://localhost:8080/"
        },
        "id": "iAd_4TtIken7",
        "outputId": "f902cbfd-7c01-4544-b8e1-19513cfd18af"
      },
      "execution_count": 51,
      "outputs": [
        {
          "output_type": "stream",
          "name": "stdout",
          "text": [
            "[[0.31598513]\n",
            " [0.34200743]\n",
            " [0.76951673]\n",
            " [0.79925651]\n",
            " [0.88475836]\n",
            " [0.97026022]\n",
            " [0.98884758]\n",
            " [0.97026022]\n",
            " [0.97026022]\n",
            " [0.96654275]] 0.9591078066914496 [[0.31598513]\n",
            " [0.34200743]\n",
            " [0.76951673]\n",
            " [0.79925651]\n",
            " [0.88475836]\n",
            " [0.97026022]\n",
            " [0.98884758]\n",
            " [0.97026022]\n",
            " [0.97026022]\n",
            " [0.96654275]] 0.9591078066914496\n"
          ]
        }
      ]
    },
    {
      "cell_type": "code",
      "source": [
        "xtr, ytr = np.array(xtr), np.array(ytr)                                         # array로 변환\n",
        "xte, yte = np.array(xte), np.array(yte)\n",
        "\n",
        "# simple RNN에 입력하려면 3차원 데이터로 변환 해야함.\n",
        "xtr = np.reshape(xtr, (xtr.shape[0], xtr.shape[1], 1))\n",
        "xte = np.reshape(xte, (xte.shape[0], xte.shape[1], 1))"
      ],
      "metadata": {
        "id": "lmpYdAzSmTIq"
      },
      "execution_count": 52,
      "outputs": []
    },
    {
      "cell_type": "code",
      "source": [
        "xtr.shape"
      ],
      "metadata": {
        "colab": {
          "base_uri": "https://localhost:8080/"
        },
        "id": "XM0VNTFxraZW",
        "outputId": "cb0adae4-a936-4a06-cdb8-3e91c915e427"
      },
      "execution_count": 53,
      "outputs": [
        {
          "output_type": "execute_result",
          "data": {
            "text/plain": [
              "(110, 10, 1)"
            ]
          },
          "metadata": {},
          "execution_count": 53
        }
      ]
    },
    {
      "cell_type": "code",
      "source": [
        "# RNN 모델 생성\n",
        "rnn_md = tf.keras.Sequential([\n",
        "    \n",
        "  tf.keras.layers.SimpleRNN(units = 10, return_sequences = True, input_shape = (xtr.shape[1], 1)),\n",
        "  tf.keras.layers.SimpleRNN(units = 10),\n",
        "  tf.keras.layers.Dense(1)\n",
        "\n",
        "])\n",
        "\n",
        "rnn_md.compile(loss = 'mse', optimizer = 'adam')\n",
        "rnn_md.summary()"
      ],
      "metadata": {
        "colab": {
          "base_uri": "https://localhost:8080/"
        },
        "id": "37O5fkhxrlP1",
        "outputId": "3af45154-084a-47f1-ca04-d685114eac68"
      },
      "execution_count": 54,
      "outputs": [
        {
          "output_type": "stream",
          "name": "stdout",
          "text": [
            "Model: \"sequential_2\"\n",
            "_________________________________________________________________\n",
            " Layer (type)                Output Shape              Param #   \n",
            "=================================================================\n",
            " simple_rnn_4 (SimpleRNN)    (None, 10, 10)            120       \n",
            "                                                                 \n",
            " simple_rnn_5 (SimpleRNN)    (None, 10)                210       \n",
            "                                                                 \n",
            " dense_2 (Dense)             (None, 1)                 11        \n",
            "                                                                 \n",
            "=================================================================\n",
            "Total params: 341\n",
            "Trainable params: 341\n",
            "Non-trainable params: 0\n",
            "_________________________________________________________________\n"
          ]
        }
      ]
    },
    {
      "cell_type": "code",
      "source": [
        "hist_rnn = rnn_md.fit(xtr, ytr, epochs = 20, batch_size = 1, verbose = 1, validation_split= 0.2)"
      ],
      "metadata": {
        "colab": {
          "base_uri": "https://localhost:8080/"
        },
        "id": "dWpRjFvmtcKm",
        "outputId": "f13d800d-e647-4b00-acdb-34904ea93981"
      },
      "execution_count": 55,
      "outputs": [
        {
          "output_type": "stream",
          "name": "stdout",
          "text": [
            "Epoch 1/20\n",
            "88/88 [==============================] - 2s 16ms/step - loss: 0.1419 - val_loss: 0.0866\n",
            "Epoch 2/20\n",
            "88/88 [==============================] - 1s 14ms/step - loss: 0.0630 - val_loss: 0.0573\n",
            "Epoch 3/20\n",
            "88/88 [==============================] - 1s 14ms/step - loss: 0.0480 - val_loss: 0.0476\n",
            "Epoch 4/20\n",
            "88/88 [==============================] - 1s 13ms/step - loss: 0.0416 - val_loss: 0.0398\n",
            "Epoch 5/20\n",
            "88/88 [==============================] - 1s 14ms/step - loss: 0.0352 - val_loss: 0.0370\n",
            "Epoch 6/20\n",
            "88/88 [==============================] - 1s 13ms/step - loss: 0.0356 - val_loss: 0.0336\n",
            "Epoch 7/20\n",
            "88/88 [==============================] - 1s 13ms/step - loss: 0.0322 - val_loss: 0.0313\n",
            "Epoch 8/20\n",
            "88/88 [==============================] - 1s 13ms/step - loss: 0.0296 - val_loss: 0.0363\n",
            "Epoch 9/20\n",
            "88/88 [==============================] - 1s 13ms/step - loss: 0.0311 - val_loss: 0.0273\n",
            "Epoch 10/20\n",
            "88/88 [==============================] - 1s 13ms/step - loss: 0.0273 - val_loss: 0.0312\n",
            "Epoch 11/20\n",
            "88/88 [==============================] - 1s 14ms/step - loss: 0.0293 - val_loss: 0.0278\n",
            "Epoch 12/20\n",
            "88/88 [==============================] - 1s 13ms/step - loss: 0.0264 - val_loss: 0.0255\n",
            "Epoch 13/20\n",
            "88/88 [==============================] - 1s 13ms/step - loss: 0.0259 - val_loss: 0.0277\n",
            "Epoch 14/20\n",
            "88/88 [==============================] - 1s 13ms/step - loss: 0.0243 - val_loss: 0.0234\n",
            "Epoch 15/20\n",
            "88/88 [==============================] - 1s 13ms/step - loss: 0.0252 - val_loss: 0.0244\n",
            "Epoch 16/20\n",
            "88/88 [==============================] - 1s 13ms/step - loss: 0.0217 - val_loss: 0.0201\n",
            "Epoch 17/20\n",
            "88/88 [==============================] - 1s 14ms/step - loss: 0.0234 - val_loss: 0.0313\n",
            "Epoch 18/20\n",
            "88/88 [==============================] - 2s 20ms/step - loss: 0.0219 - val_loss: 0.0221\n",
            "Epoch 19/20\n",
            "88/88 [==============================] - 2s 21ms/step - loss: 0.0214 - val_loss: 0.0226\n",
            "Epoch 20/20\n",
            "88/88 [==============================] - 1s 14ms/step - loss: 0.0214 - val_loss: 0.0245\n"
          ]
        }
      ]
    },
    {
      "cell_type": "code",
      "source": [
        "pl.plot(hist_rnn.history['loss'], 'b-', label = 'loss')\n",
        "pl.plot(hist_rnn.history['val_loss'], 'r-', label = 'val_loss')\n",
        "pl.legend()\n",
        "\n",
        "pl.show()"
      ],
      "metadata": {
        "colab": {
          "base_uri": "https://localhost:8080/",
          "height": 265
        },
        "id": "rt6uQu3Xt5qt",
        "outputId": "fd643a21-78b5-45eb-8a08-89c464fa059c"
      },
      "execution_count": 56,
      "outputs": [
        {
          "output_type": "display_data",
          "data": {
            "text/plain": [
              "<Figure size 432x288 with 1 Axes>"
            ],
            "image/png": "[encoded data removed]"
          },
          "metadata": {
            "needs_background": "light"
          }
        }
      ]
    },
    {
      "cell_type": "code",
      "source": [
        "# 예측\n",
        "\n",
        "pre = rnn_md.predict(xte)\n",
        "pre = scaler.inverse_transform(pre)"
      ],
      "metadata": {
        "colab": {
          "base_uri": "https://localhost:8080/"
        },
        "id": "Y2g33zwwu6B1",
        "outputId": "37b7073d-3371-48ec-a5c7-bac3e05308c3"
      },
      "execution_count": 58,
      "outputs": [
        {
          "output_type": "stream",
          "name": "stdout",
          "text": [
            "1/1 [==============================] - 0s 66ms/step\n"
          ]
        }
      ]
    },
    {
      "cell_type": "code",
      "source": [
        "tr_d = nd[ :130]\n",
        "te_d = nd[130: ]\n",
        "te_d['pred'] = pre                                                              # 예측 값을 새로운 열로 추가"
      ],
      "metadata": {
        "colab": {
          "base_uri": "https://localhost:8080/"
        },
        "id": "ehLtBYPgzl0k",
        "outputId": "4787709b-8fa4-4e28-9657-c0902a176813"
      },
      "execution_count": 61,
      "outputs": [
        {
          "output_type": "stream",
          "name": "stderr",
          "text": [
            "/usr/local/lib/python3.7/dist-packages/ipykernel_launcher.py:3: SettingWithCopyWarning: \n",
            "A value is trying to be set on a copy of a slice from a DataFrame.\n",
            "Try using .loc[row_indexer,col_indexer] = value instead\n",
            "\n",
            "See the caveats in the documentation: https://pandas.pydata.org/pandas-docs/stable/user_guide/indexing.html#returning-a-view-versus-a-copy\n",
            "  This is separate from the ipykernel package so we can avoid doing imports until\n"
          ]
        }
      ]
    },
    {
      "cell_type": "code",
      "source": [
        "pl.plot(tr_d['temp1'], 'b-', label = 'train')\n",
        "pl.plot(te_d['temp1'], 'r-', label = 'test')\n",
        "pl.plot(te_d['pred'], 'y-', label = 'pred')\n",
        "pl.legend()\n",
        "\n",
        "pl.show()"
      ],
      "metadata": {
        "colab": {
          "base_uri": "https://localhost:8080/",
          "height": 265
        },
        "id": "EgA8Wmuw0bJm",
        "outputId": "102390fe-d384-4939-ba42-130eb981041e"
      },
      "execution_count": 62,
      "outputs": [
        {
          "output_type": "display_data",
          "data": {
            "text/plain": [
              "<Figure size 432x288 with 1 Axes>"
            ],
            "image/png": "[encoded data removed]"
          },
          "metadata": {
            "needs_background": "light"
          }
        }
      ]
    },
    {
      "cell_type": "code",
      "source": [],
      "metadata": {
        "id": "jXVt2nzH1BPr"
      },
      "execution_count": null,
      "outputs": []
    }
  ]
}