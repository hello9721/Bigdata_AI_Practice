{
  "nbformat": 4,
  "nbformat_minor": 0,
  "metadata": {
    "colab": {
      "provenance": [],
      "mount_file_id": "19nfENQiIQaYp1yVWq0--x1GZeGYjUTk-",
      "authorship_tag": "ABX9TyNXGFO3vlLx4dliTRAL4VD1"
    },
    "kernelspec": {
      "name": "python3",
      "display_name": "Python 3"
    },
    "language_info": {
      "name": "python"
    },
    "accelerator": "GPU",
    "gpuClass": "standard"
  },
  "cells": [
    {
      "cell_type": "code",
      "execution_count": 3,
      "metadata": {
        "id": "Ew2F-IAZS-D7"
      },
      "outputs": [],
      "source": [
        "# mnist 데이터를 가지고 딥러닝 진행해보기"
      ]
    },
    {
      "cell_type": "code",
      "source": [
        "import tensorflow as tf\n",
        "import matplotlib.pyplot as pl\n",
        "import pandas as pd\n",
        "import numpy as np\n",
        "\n",
        "mnist = tf.keras.datasets.mnist"
      ],
      "metadata": {
        "id": "gr9UnntPYNPW"
      },
      "execution_count": 11,
      "outputs": []
    },
    {
      "cell_type": "code",
      "source": [
        "(xtr, ytr), (xte, yte) = mnist.load_data()\n",
        "\n",
        "print(xtr.shape, ytr.shape, xte.shape, yte.shape, sep = \"\\n\\n\")\n",
        "\n",
        "pl.imshow(xtr[0], cmap = pl.cm.binary)\n",
        "pl.show()"
      ],
      "metadata": {
        "colab": {
          "base_uri": "https://localhost:8080/",
          "height": 394
        },
        "id": "JFjVVs8MY83F",
        "outputId": "3d7490e0-42d7-4f2f-a99d-e0879e1d0fd7"
      },
      "execution_count": 12,
      "outputs": [
        {
          "output_type": "stream",
          "name": "stdout",
          "text": [
            "(60000, 28, 28)\n",
            "\n",
            "(60000,)\n",
            "\n",
            "(10000, 28, 28)\n",
            "\n",
            "(10000,)\n"
          ]
        },
        {
          "output_type": "display_data",
          "data": {
            "text/plain": [
              "<Figure size 432x288 with 1 Axes>"
            ],
            "image/png": "[encoded data removed]"
          },
          "metadata": {
            "needs_background": "light"
          }
        }
      ]
    },
    {
      "cell_type": "code",
      "source": [
        "# DNN ( 심층 신경망 ) 모델"
      ],
      "metadata": {
        "id": "dwkrMVb4ZFje"
      },
      "execution_count": 6,
      "outputs": []
    },
    {
      "cell_type": "code",
      "source": [
        "xtr = xtr/255\n",
        "xte = xte/255\n",
        "\n",
        "md = tf.keras.models.Sequential([\n",
        "    \n",
        "  tf.keras.layers.Flatten(input_shape = (28, 28)),\n",
        "  tf.keras.layers.Dense(128, activation = \"relu\"),\n",
        "  tf.keras.layers.Dense(64, activation = \"relu\"),\n",
        "  tf.keras.layers.Dropout(0.2),\n",
        "  tf.keras.layers.Dense(10, activation = \"softmax\")\n",
        "\n",
        "])\n",
        "\n",
        "md.summary()"
      ],
      "metadata": {
        "colab": {
          "base_uri": "https://localhost:8080/"
        },
        "id": "BGoo0GhrZN-n",
        "outputId": "d8da910a-b810-44d5-cb51-524293a49af5"
      },
      "execution_count": 7,
      "outputs": [
        {
          "output_type": "stream",
          "name": "stdout",
          "text": [
            "Model: \"sequential\"\n",
            "_________________________________________________________________\n",
            " Layer (type)                Output Shape              Param #   \n",
            "=================================================================\n",
            " flatten (Flatten)           (None, 784)               0         \n",
            "                                                                 \n",
            " dense (Dense)               (None, 128)               100480    \n",
            "                                                                 \n",
            " dense_1 (Dense)             (None, 64)                8256      \n",
            "                                                                 \n",
            " dropout (Dropout)           (None, 64)                0         \n",
            "                                                                 \n",
            " dense_2 (Dense)             (None, 10)                650       \n",
            "                                                                 \n",
            "=================================================================\n",
            "Total params: 109,386\n",
            "Trainable params: 109,386\n",
            "Non-trainable params: 0\n",
            "_________________________________________________________________\n"
          ]
        }
      ]
    },
    {
      "cell_type": "code",
      "source": [
        "md.compile(optimizer = 'adam', loss = 'sparse_categorical_crossentropy', metrics = [\"accuracy\"])"
      ],
      "metadata": {
        "id": "Rjc6kdHbZVeF"
      },
      "execution_count": 8,
      "outputs": []
    },
    {
      "cell_type": "code",
      "source": [
        "hstr = md.fit(xtr, ytr, epochs = 6, validation_split= 0.2)\n",
        "md.evaluate(xte, yte, verbose = 2)"
      ],
      "metadata": {
        "colab": {
          "base_uri": "https://localhost:8080/"
        },
        "id": "oxBfpmGHZfHu",
        "outputId": "444d535d-9062-4e6e-b91d-4b4d944877c1"
      },
      "execution_count": 9,
      "outputs": [
        {
          "output_type": "stream",
          "name": "stdout",
          "text": [
            "Epoch 1/6\n",
            "1500/1500 [==============================] - 5s 3ms/step - loss: 0.3144 - accuracy: 0.9075 - val_loss: 0.1408 - val_accuracy: 0.9597\n",
            "Epoch 2/6\n",
            "1500/1500 [==============================] - 4s 3ms/step - loss: 0.1377 - accuracy: 0.9590 - val_loss: 0.1128 - val_accuracy: 0.9658\n",
            "Epoch 3/6\n",
            "1500/1500 [==============================] - 4s 3ms/step - loss: 0.0997 - accuracy: 0.9695 - val_loss: 0.0992 - val_accuracy: 0.9714\n",
            "Epoch 4/6\n",
            "1500/1500 [==============================] - 4s 3ms/step - loss: 0.0756 - accuracy: 0.9762 - val_loss: 0.0988 - val_accuracy: 0.9732\n",
            "Epoch 5/6\n",
            "1500/1500 [==============================] - 4s 3ms/step - loss: 0.0602 - accuracy: 0.9810 - val_loss: 0.0994 - val_accuracy: 0.9721\n",
            "Epoch 6/6\n",
            "1500/1500 [==============================] - 4s 3ms/step - loss: 0.0507 - accuracy: 0.9835 - val_loss: 0.0935 - val_accuracy: 0.9743\n",
            "313/313 - 1s - loss: 0.0754 - accuracy: 0.9786 - 669ms/epoch - 2ms/step\n"
          ]
        },
        {
          "output_type": "execute_result",
          "data": {
            "text/plain": [
              "[0.07543646544218063, 0.978600025177002]"
            ]
          },
          "metadata": {},
          "execution_count": 9
        }
      ]
    },
    {
      "cell_type": "code",
      "source": [
        "pl.figure(figsize = (12,4))\n",
        "pl.subplot(1, 2, 1)\n",
        "\n",
        "pl.plot(hstr.history['loss'], 'b--', label = 'loss')\n",
        "pl.plot(hstr.history['val_loss'], 'r--', label = 'val_loss')\n",
        "pl.legend()\n",
        "\n",
        "pl.subplot(1, 2, 2)\n",
        "\n",
        "pl.plot(hstr.history['accuracy'], 'b--', label = 'accuracy')\n",
        "pl.plot(hstr.history['val_accuracy'], 'r--', label = 'val_accuracy')\n",
        "pl.legend()\n",
        "\n",
        "pl.show()"
      ],
      "metadata": {
        "colab": {
          "base_uri": "https://localhost:8080/",
          "height": 265
        },
        "id": "_7llCpq4b7qe",
        "outputId": "ea8ceb65-c4ee-4c68-8531-7f2c1c15fd85"
      },
      "execution_count": 10,
      "outputs": [
        {
          "output_type": "display_data",
          "data": {
            "text/plain": [
              "<Figure size 864x288 with 2 Axes>"
            ],
            "image/png": "[encoded data removed]"
          },
          "metadata": {
            "needs_background": "light"
          }
        }
      ]
    },
    {
      "cell_type": "code",
      "source": [
        "# CNN ( 합성곱 신경망 ) 모델"
      ],
      "metadata": {
        "id": "28PriSCueV7e"
      },
      "execution_count": 13,
      "outputs": []
    },
    {
      "cell_type": "code",
      "source": [
        "xtr = xtr.reshape((-1, 28, 28, 1))/255\n",
        "xte = xte.reshape((-1, 28, 28, 1))/255"
      ],
      "metadata": {
        "id": "7bL8aCJcegfA"
      },
      "execution_count": 14,
      "outputs": []
    },
    {
      "cell_type": "code",
      "source": [
        "md = tf.keras.Sequential([\n",
        "    \n",
        "  tf.keras.layers.Conv2D(32, (3,3), padding = 'same', activation = 'relu', input_shape = (28, 28, 1)),\n",
        "  tf.keras.layers.MaxPooling2D(strides = 2),\n",
        "  tf.keras.layers.Conv2D(64, (3,3), padding = 'same', activation = 'relu'),\n",
        "  tf.keras.layers.MaxPooling2D(strides = 2),\n",
        "  tf.keras.layers.Flatten(),\n",
        "  tf.keras.layers.Dense(128, activation = \"relu\"),\n",
        "  tf.keras.layers.Dense(64, activation = \"relu\"),\n",
        "  tf.keras.layers.Dropout(0.2),\n",
        "  tf.keras.layers.Dense(10, activation = \"softmax\")\n",
        "\n",
        "])\n",
        "\n",
        "md.compile(optimizer = 'adam', loss = 'sparse_categorical_crossentropy', metrics = ['accuracy'])\n",
        "hstr = md.fit(xtr, ytr, epochs = 10, validation_split = 0.2)\n",
        "md.evaluate(xte, yte, verbose = 2)"
      ],
      "metadata": {
        "colab": {
          "base_uri": "https://localhost:8080/"
        },
        "id": "OyDviYQWexI2",
        "outputId": "809fdaa0-ad02-41e7-860e-591a33a1161a"
      },
      "execution_count": 15,
      "outputs": [
        {
          "output_type": "stream",
          "name": "stdout",
          "text": [
            "Epoch 1/10\n",
            "1500/1500 [==============================] - 13s 4ms/step - loss: 0.1788 - accuracy: 0.9442 - val_loss: 0.0711 - val_accuracy: 0.9796\n",
            "Epoch 2/10\n",
            "1500/1500 [==============================] - 6s 4ms/step - loss: 0.0572 - accuracy: 0.9829 - val_loss: 0.0413 - val_accuracy: 0.9885\n",
            "Epoch 3/10\n",
            "1500/1500 [==============================] - 6s 4ms/step - loss: 0.0384 - accuracy: 0.9883 - val_loss: 0.0400 - val_accuracy: 0.9890\n",
            "Epoch 4/10\n",
            "1500/1500 [==============================] - 6s 4ms/step - loss: 0.0287 - accuracy: 0.9909 - val_loss: 0.0430 - val_accuracy: 0.9882\n",
            "Epoch 5/10\n",
            "1500/1500 [==============================] - 6s 4ms/step - loss: 0.0228 - accuracy: 0.9929 - val_loss: 0.0608 - val_accuracy: 0.9831\n",
            "Epoch 6/10\n",
            "1500/1500 [==============================] - 6s 4ms/step - loss: 0.0163 - accuracy: 0.9948 - val_loss: 0.0413 - val_accuracy: 0.9907\n",
            "Epoch 7/10\n",
            "1500/1500 [==============================] - 8s 5ms/step - loss: 0.0153 - accuracy: 0.9953 - val_loss: 0.0522 - val_accuracy: 0.9880\n",
            "Epoch 8/10\n",
            "1500/1500 [==============================] - 6s 4ms/step - loss: 0.0134 - accuracy: 0.9959 - val_loss: 0.0486 - val_accuracy: 0.9891\n",
            "Epoch 9/10\n",
            "1500/1500 [==============================] - 6s 4ms/step - loss: 0.0104 - accuracy: 0.9967 - val_loss: 0.0499 - val_accuracy: 0.9902\n",
            "Epoch 10/10\n",
            "1500/1500 [==============================] - 6s 4ms/step - loss: 0.0109 - accuracy: 0.9964 - val_loss: 0.0434 - val_accuracy: 0.9916\n",
            "313/313 - 1s - loss: 0.0330 - accuracy: 0.9924 - 812ms/epoch - 3ms/step\n"
          ]
        },
        {
          "output_type": "execute_result",
          "data": {
            "text/plain": [
              "[0.03299408033490181, 0.9923999905586243]"
            ]
          },
          "metadata": {},
          "execution_count": 15
        }
      ]
    },
    {
      "cell_type": "code",
      "source": [
        "pl.figure(figsize = (12,4))\n",
        "pl.subplot(1, 2, 1)\n",
        "\n",
        "pl.plot(hstr.history['loss'], 'b--', label = 'loss')\n",
        "pl.plot(hstr.history['val_loss'], 'r--', label = 'val_loss')\n",
        "pl.legend()\n",
        "\n",
        "pl.subplot(1, 2, 2)\n",
        "\n",
        "pl.plot(hstr.history['accuracy'], 'b--', label = 'accuracy')\n",
        "pl.plot(hstr.history['val_accuracy'], 'r--', label = 'val_accuracy')\n",
        "pl.legend()\n",
        "\n",
        "pl.show()"
      ],
      "metadata": {
        "colab": {
          "base_uri": "https://localhost:8080/",
          "height": 265
        },
        "id": "xy4yt7qjg-L2",
        "outputId": "5251b99e-9719-43bc-b292-0ffca25b3278"
      },
      "execution_count": 16,
      "outputs": [
        {
          "output_type": "display_data",
          "data": {
            "text/plain": [
              "<Figure size 864x288 with 2 Axes>"
            ],
            "image/png": "[encoded data removed]"
          },
          "metadata": {
            "needs_background": "light"
          }
        }
      ]
    },
    {
      "cell_type": "code",
      "source": [],
      "metadata": {
        "id": "JupocmM_hb02"
      },
      "execution_count": null,
      "outputs": []
    }
  ]
}